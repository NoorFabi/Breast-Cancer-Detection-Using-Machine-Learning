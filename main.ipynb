{
  "nbformat": 4,
  "nbformat_minor": 0,
  "metadata": {
    "colab": {
      "provenance": []
    },
    "kernelspec": {
      "name": "python3",
      "display_name": "Python 3"
    },
    "language_info": {
      "name": "python"
    }
  },
  "cells": [
    {
      "cell_type": "code",
      "execution_count": null,
      "metadata": {
        "id": "W1LMFcvqPfeM"
      },
      "outputs": [],
      "source": [
        "import pandas as pd\n",
        "import numpy as np\n",
        "from sklearn import preprocessing"
      ]
    },
    {
      "cell_type": "markdown",
      "source": [
        "**Loading Dataset:**"
      ],
      "metadata": {
        "id": "0NeTPpTV26oq"
      }
    },
    {
      "cell_type": "code",
      "source": [
        "dataset=pd.read_csv(\"/content/drive/MyDrive/Dataset/breast-cancer.data\")"
      ],
      "metadata": {
        "id": "e-XGIZ8-QII9"
      },
      "execution_count": null,
      "outputs": []
    },
    {
      "cell_type": "markdown",
      "source": [
        "**Adding attribute's names:**"
      ],
      "metadata": {
        "id": "g7seEbUv3ikZ"
      }
    },
    {
      "cell_type": "code",
      "source": [
        "dataset.columns=['class','age','menopause','tumor-size','inv-nodes','node-caps','deg-malig','breast','breast-quad','irradiat']\n",
        "print(dataset.head())"
      ],
      "metadata": {
        "colab": {
          "base_uri": "https://localhost:8080/"
        },
        "id": "fPSgjh9jRihO",
        "outputId": "2f554fd5-ed38-496d-8e14-519c8e06a361"
      },
      "execution_count": null,
      "outputs": [
        {
          "output_type": "stream",
          "name": "stdout",
          "text": [
            "                  class    age menopause tumor-size inv-nodes node-caps  \\\n",
            "0  no-recurrence-events  40-49   premeno      20-24       0-2        no   \n",
            "1  no-recurrence-events  40-49   premeno      20-24       0-2        no   \n",
            "2  no-recurrence-events  60-69      ge40      15-19       0-2        no   \n",
            "3  no-recurrence-events  40-49   premeno        0-4       0-2        no   \n",
            "4  no-recurrence-events  60-69      ge40      15-19       0-2        no   \n",
            "\n",
            "   deg-malig breast breast-quad irradiat  \n",
            "0          2  right    right_up       no  \n",
            "1          2   left    left_low       no  \n",
            "2          2  right     left_up       no  \n",
            "3          2  right   right_low       no  \n",
            "4          2   left    left_low       no  \n"
          ]
        }
      ]
    },
    {
      "cell_type": "markdown",
      "source": [
        "**Replacing missing values:**"
      ],
      "metadata": {
        "id": "hwlQGeOw3oVB"
      }
    },
    {
      "cell_type": "code",
      "source": [
        "dataset[\"node-caps\"].replace({\"?\":\"\"}, inplace=True)\n",
        "dataset[\"breast-quad\"].replace({\"?\":\"\"}, inplace=True)"
      ],
      "metadata": {
        "id": "UoG7ZoDGWmiP"
      },
      "execution_count": null,
      "outputs": []
    },
    {
      "cell_type": "markdown",
      "source": [
        "**Data Encoding:**"
      ],
      "metadata": {
        "id": "Mp8401Cs3vPZ"
      }
    },
    {
      "cell_type": "code",
      "source": [
        "label_encoder = preprocessing.LabelEncoder()\n",
        "\n",
        "dataset['class']= label_encoder.fit_transform(dataset['class'])\n",
        "dataset['age']= label_encoder.fit_transform(dataset['age'])\n",
        "dataset['menopause']= label_encoder.fit_transform(dataset['menopause'])\n",
        "dataset['tumor-size']= label_encoder.fit_transform(dataset['tumor-size'])\n",
        "dataset['inv-nodes']= label_encoder.fit_transform(dataset['inv-nodes'])\n",
        "dataset['node-caps']= label_encoder.fit_transform(dataset['node-caps'])\n",
        "dataset['breast-quad']= label_encoder.fit_transform(dataset['breast-quad'])\n",
        "dataset['breast']= label_encoder.fit_transform(dataset['breast'])\n",
        "dataset['irradiat']= label_encoder.fit_transform(dataset['irradiat'])\n",
        "\n",
        "print(dataset.head())"
      ],
      "metadata": {
        "colab": {
          "base_uri": "https://localhost:8080/"
        },
        "id": "HxygSW4uSFQi",
        "outputId": "b9aabe5d-573e-4753-8c83-0904cacb8efd"
      },
      "execution_count": null,
      "outputs": [
        {
          "output_type": "stream",
          "name": "stdout",
          "text": [
            "   class  age  menopause  tumor-size  inv-nodes  node-caps  deg-malig  breast  \\\n",
            "0      0    2          2           3          0          1          2       1   \n",
            "1      0    2          2           3          0          1          2       0   \n",
            "2      0    4          0           2          0          1          2       1   \n",
            "3      0    2          2           0          0          1          2       1   \n",
            "4      0    4          0           2          0          1          2       0   \n",
            "\n",
            "   breast-quad  irradiat  \n",
            "0            5         0  \n",
            "1            2         0  \n",
            "2            3         0  \n",
            "3            4         0  \n",
            "4            2         0  \n"
          ]
        }
      ]
    },
    {
      "cell_type": "markdown",
      "source": [
        "**Filling missing values:**"
      ],
      "metadata": {
        "id": "UCwG0cXA3y_a"
      }
    },
    {
      "cell_type": "code",
      "source": [
        "dataset.fillna(dataset.median(), inplace=True)"
      ],
      "metadata": {
        "id": "nL3gyupDZZ34"
      },
      "execution_count": null,
      "outputs": []
    },
    {
      "cell_type": "code",
      "source": [
        "from sklearn.model_selection import train_test_split\n",
        "from sklearn.ensemble import RandomForestClassifier\n",
        "from sklearn.metrics import classification_report, confusion_matrix, accuracy_score\n",
        "from sklearn import metrics"
      ],
      "metadata": {
        "id": "tC04YV92Zj2X"
      },
      "execution_count": null,
      "outputs": []
    },
    {
      "cell_type": "code",
      "source": [
        "train, test = train_test_split(dataset, test_size=0.3)\n",
        "train_features = train.iloc[:,1:10] #X_train\n",
        "train_target = train[\"class\"] #Y_train\n",
        "test_features = test.iloc[:,1:10] #X_test\n",
        "test_target = test[\"class\"]  #Y_test"
      ],
      "metadata": {
        "id": "beCfV-kQRZEb"
      },
      "execution_count": null,
      "outputs": []
    },
    {
      "cell_type": "code",
      "source": [
        "from sklearn.preprocessing import StandardScaler\n",
        "std_scaler = StandardScaler()\n",
        "\n",
        "train_features = std_scaler.fit_transform(train_features)\n",
        "\n",
        "test_features = std_scaler.fit_transform(test_features)"
      ],
      "metadata": {
        "id": "9zAE-4xyR110"
      },
      "execution_count": null,
      "outputs": []
    },
    {
      "cell_type": "markdown",
      "source": [
        "**Hyperparamets tuning for Random Forest Classifier:**"
      ],
      "metadata": {
        "id": "hdXf5wx9a29_"
      }
    },
    {
      "cell_type": "code",
      "source": [
        "from sklearn.model_selection import GridSearchCV\n",
        "\n",
        "rfc=RandomForestClassifier(random_state=42)\n",
        "\n",
        "param_grid = {\n",
        "    'n_estimators': [200, 500],\n",
        "    'max_features': ['auto', 'sqrt', 'log2'],\n",
        "    'max_depth' : [4,5,6,7,8],\n",
        "    'criterion' :['gini', 'entropy']\n",
        "}\n",
        "\n",
        "\n",
        "CV_rfc = GridSearchCV(estimator=rfc, param_grid=param_grid, cv= 5)\n",
        "CV_rfc.fit(train_features, train_target)\n"
      ],
      "metadata": {
        "colab": {
          "base_uri": "https://localhost:8080/"
        },
        "id": "kynIxiIbVtHe",
        "outputId": "d1038438-2b45-4657-884a-abe9e1cb088f"
      },
      "execution_count": null,
      "outputs": [
        {
          "output_type": "execute_result",
          "data": {
            "text/plain": [
              "GridSearchCV(cv=5, estimator=RandomForestClassifier(random_state=42),\n",
              "             param_grid={'criterion': ['gini', 'entropy'],\n",
              "                         'max_depth': [4, 5, 6, 7, 8],\n",
              "                         'max_features': ['auto', 'sqrt', 'log2'],\n",
              "                         'n_estimators': [200, 500]})"
            ]
          },
          "metadata": {},
          "execution_count": 10
        }
      ]
    },
    {
      "cell_type": "code",
      "source": [
        "CV_rfc.best_params_"
      ],
      "metadata": {
        "colab": {
          "base_uri": "https://localhost:8080/"
        },
        "id": "VlrL3xr2XQGe",
        "outputId": "0fbf3fe7-8111-4886-9771-85d6443a9e2b"
      },
      "execution_count": null,
      "outputs": [
        {
          "output_type": "execute_result",
          "data": {
            "text/plain": [
              "{'criterion': 'gini',\n",
              " 'max_depth': 4,\n",
              " 'max_features': 'auto',\n",
              " 'n_estimators': 500}"
            ]
          },
          "metadata": {},
          "execution_count": 11
        }
      ]
    },
    {
      "cell_type": "markdown",
      "source": [
        "**Random forest classifier:**"
      ],
      "metadata": {
        "id": "8_ghHFaS32ra"
      }
    },
    {
      "cell_type": "code",
      "source": [
        "rfc = RandomForestClassifier(n_estimators=500,criterion='gini',max_depth= 4,max_features='auto')\n",
        "rfc.fit(train_features,train_target)\n",
        "\n",
        "predicted_target = rfc.predict(test_features)\n",
        "\n",
        "print(\"Confusion matrix: \\n\")\n",
        "print(confusion_matrix(test_target,predicted_target))\n",
        "print(\"\\nClassification report: \\n\")\n",
        "print(classification_report(test_target,predicted_target))\n",
        "print(\"Accuracy: {}\".format(accuracy_score(test_target, predicted_target)))"
      ],
      "metadata": {
        "colab": {
          "base_uri": "https://localhost:8080/"
        },
        "id": "UrtZmFoxZrFn",
        "outputId": "7cc7b2c5-75b8-4f86-e11e-0e5a6af64235"
      },
      "execution_count": null,
      "outputs": [
        {
          "output_type": "stream",
          "name": "stdout",
          "text": [
            "Confusion matrix: \n",
            "\n",
            "[[63  2]\n",
            " [15  6]]\n",
            "\n",
            "Classification report: \n",
            "\n",
            "              precision    recall  f1-score   support\n",
            "\n",
            "           0       0.81      0.97      0.88        65\n",
            "           1       0.75      0.29      0.41        21\n",
            "\n",
            "    accuracy                           0.80        86\n",
            "   macro avg       0.78      0.63      0.65        86\n",
            "weighted avg       0.79      0.80      0.77        86\n",
            "\n",
            "Accuracy: 0.8023255813953488\n"
          ]
        }
      ]
    },
    {
      "cell_type": "code",
      "source": [],
      "metadata": {
        "id": "pFoShO8MsFG1"
      },
      "execution_count": null,
      "outputs": []
    },
    {
      "cell_type": "markdown",
      "source": [
        "**Decision Tree Classifier:**"
      ],
      "metadata": {
        "id": "vRNs051338HD"
      }
    },
    {
      "cell_type": "code",
      "source": [
        "from sklearn.tree import DecisionTreeClassifier\n",
        "\n",
        "dtc = DecisionTreeClassifier(criterion='entropy',max_depth= 4)\n",
        "dtc = dtc.fit(train_features,train_target)\n",
        "y_pred = dtc.predict(test_features)\n",
        "\n",
        "print(\"Confusion matrix: \\n\")\n",
        "print(confusion_matrix(test_target,y_pred))\n",
        "print(\"\\nClassification report: \\n\")\n",
        "print(classification_report(test_target,y_pred))\n",
        "print(\"Accuracy: {}\".format(accuracy_score(test_target, y_pred)))"
      ],
      "metadata": {
        "colab": {
          "base_uri": "https://localhost:8080/"
        },
        "id": "m9KZjCdkYTPP",
        "outputId": "5a3d6dff-a9ff-496c-8a4a-4315eca7bb64"
      },
      "execution_count": null,
      "outputs": [
        {
          "output_type": "stream",
          "name": "stdout",
          "text": [
            "Confusion matrix: \n",
            "\n",
            "[[61  4]\n",
            " [20  1]]\n",
            "\n",
            "Classification report: \n",
            "\n",
            "              precision    recall  f1-score   support\n",
            "\n",
            "           0       0.75      0.94      0.84        65\n",
            "           1       0.20      0.05      0.08        21\n",
            "\n",
            "    accuracy                           0.72        86\n",
            "   macro avg       0.48      0.49      0.46        86\n",
            "weighted avg       0.62      0.72      0.65        86\n",
            "\n",
            "Accuracy: 0.7209302325581395\n"
          ]
        }
      ]
    },
    {
      "cell_type": "markdown",
      "source": [
        "**Support Vector Machine Classifier:**"
      ],
      "metadata": {
        "id": "_bcB-0K54EFJ"
      }
    },
    {
      "cell_type": "code",
      "source": [
        "from sklearn import svm\n",
        "\n",
        "SVM = svm.SVC(kernel = 'rbf', C = 15, probability = True)\n",
        "SVM.fit(train_features,train_target)\n",
        "y_pred2 = SVM.predict(test_features)\n",
        "\n",
        "print(\"Confusion matrix: \\n\")\n",
        "print(confusion_matrix(test_target,y_pred2))\n",
        "print(\"\\nClassification report: \\n\")\n",
        "print(classification_report(test_target,y_pred2))\n",
        "print(\"Accuracy: {}\".format(accuracy_score(test_target, y_pred2)))"
      ],
      "metadata": {
        "colab": {
          "base_uri": "https://localhost:8080/"
        },
        "id": "nJWseW2LbVe_",
        "outputId": "15f5dddc-6817-456a-83a0-82411032a90c"
      },
      "execution_count": null,
      "outputs": [
        {
          "output_type": "stream",
          "name": "stdout",
          "text": [
            "Confusion matrix: \n",
            "\n",
            "[[58  7]\n",
            " [11 10]]\n",
            "\n",
            "Classification report: \n",
            "\n",
            "              precision    recall  f1-score   support\n",
            "\n",
            "           0       0.84      0.89      0.87        65\n",
            "           1       0.59      0.48      0.53        21\n",
            "\n",
            "    accuracy                           0.79        86\n",
            "   macro avg       0.71      0.68      0.70        86\n",
            "weighted avg       0.78      0.79      0.78        86\n",
            "\n",
            "Accuracy: 0.7906976744186046\n"
          ]
        }
      ]
    },
    {
      "cell_type": "markdown",
      "source": [
        "**Hyperparamets tuning for XGBoost**"
      ],
      "metadata": {
        "id": "Lwuddp8_aszP"
      }
    },
    {
      "cell_type": "code",
      "source": [
        "import xgboost as xgb\n",
        "from sklearn.model_selection import GridSearchCV\n",
        "from sklearn import datasets\n",
        "\n",
        "clf = xgb.XGBClassifier()\n",
        "parameters = {\n",
        "    'n_estimators': [100, 250, 500],\n",
        "    'max_depth': [6, 9, 12],\n",
        "    'subsample': [0.9, 1.0],\n",
        "    'colsample_bytree': [0.9, 1.0],\n",
        "}\n",
        "\n",
        "grid = GridSearchCV(clf,\n",
        "                    parameters, n_jobs=4,\n",
        "                    scoring=\"neg_log_loss\",\n",
        "                    cv=3)\n",
        "\n",
        "grid.fit(train_features, train_target)\n"
      ],
      "metadata": {
        "colab": {
          "base_uri": "https://localhost:8080/"
        },
        "id": "DN-rHxSTaMYO",
        "outputId": "066c3863-2b44-490d-9aaf-dc81e1c9ae64"
      },
      "execution_count": null,
      "outputs": [
        {
          "output_type": "execute_result",
          "data": {
            "text/plain": [
              "GridSearchCV(cv=3, estimator=XGBClassifier(), n_jobs=4,\n",
              "             param_grid={'colsample_bytree': [0.9, 1.0],\n",
              "                         'max_depth': [6, 9, 12],\n",
              "                         'n_estimators': [100, 250, 500],\n",
              "                         'subsample': [0.9, 1.0]},\n",
              "             scoring='neg_log_loss')"
            ]
          },
          "metadata": {},
          "execution_count": 15
        }
      ]
    },
    {
      "cell_type": "code",
      "source": [
        "grid.best_params_"
      ],
      "metadata": {
        "colab": {
          "base_uri": "https://localhost:8080/"
        },
        "id": "EViAtdueaaGJ",
        "outputId": "261e35dd-faae-4db8-a966-8929445f415e"
      },
      "execution_count": null,
      "outputs": [
        {
          "output_type": "execute_result",
          "data": {
            "text/plain": [
              "{'colsample_bytree': 0.9,\n",
              " 'max_depth': 9,\n",
              " 'n_estimators': 100,\n",
              " 'subsample': 0.9}"
            ]
          },
          "metadata": {},
          "execution_count": 16
        }
      ]
    },
    {
      "cell_type": "markdown",
      "source": [
        "**XGBoost (gradient-boosted) classifier:**"
      ],
      "metadata": {
        "id": "9GxLbeXt4Mix"
      }
    },
    {
      "cell_type": "code",
      "source": [
        "from xgboost import XGBClassifier\n",
        "\n",
        "xgc=XGBClassifier(n_estimators=100,max_depth= 9,subsample=1.0,colsample_bytree=0.9)\n",
        "xgc.fit(train_features,train_target)\n",
        "y_pred3 = xgc.predict(test_features)\n",
        "\n",
        "print(\"Confusion matrix: \\n\")\n",
        "print(confusion_matrix(test_target,y_pred3))\n",
        "print(\"\\nClassification report: \\n\")\n",
        "print(classification_report(test_target,y_pred3))\n",
        "print(\"Accuracy: {}\".format(accuracy_score(test_target, y_pred3)))"
      ],
      "metadata": {
        "colab": {
          "base_uri": "https://localhost:8080/"
        },
        "id": "Hk_9roDtcoUn",
        "outputId": "92cab021-c0e9-489e-9020-bcbba1ba89ac"
      },
      "execution_count": null,
      "outputs": [
        {
          "output_type": "stream",
          "name": "stdout",
          "text": [
            "Confusion matrix: \n",
            "\n",
            "[[57  8]\n",
            " [15  6]]\n",
            "\n",
            "Classification report: \n",
            "\n",
            "              precision    recall  f1-score   support\n",
            "\n",
            "           0       0.79      0.88      0.83        65\n",
            "           1       0.43      0.29      0.34        21\n",
            "\n",
            "    accuracy                           0.73        86\n",
            "   macro avg       0.61      0.58      0.59        86\n",
            "weighted avg       0.70      0.73      0.71        86\n",
            "\n",
            "Accuracy: 0.7325581395348837\n"
          ]
        }
      ]
    },
    {
      "cell_type": "code",
      "source": [
        "import matplotlib.pyplot as plt\n",
        "from sklearn import metrics\n",
        "\n",
        "y_pred = rfc.predict_proba(test_features)[:, 1]\n",
        "y_pred1 = dtc.predict_proba(test_features)[:, 1]\n",
        "y_pred2 = SVM.predict_proba(test_features)[:, 1]\n",
        "y_pred3 = xgc.predict_proba(test_features)[:, 1]\n",
        "\n",
        "Yp=[y_pred,y_pred1,y_pred2,y_pred3]\n",
        "titles=['Random Forest','Decision Tree','SVM','XGBoost']\n",
        "def ROC(y_test,y_pred,title):\n",
        "  fpr, tpr, _ = metrics.roc_curve(y_test, y_pred)\n",
        "  auc = round(metrics.roc_auc_score(y_test, y_pred), 4)\n",
        "  plt.plot(fpr,tpr,label=title+\" AUC=\"+str(auc))\n",
        "  plt.legend()\n",
        "\n",
        "n=4\n",
        "j=0\n",
        "for i in Yp:\n",
        "  ROC(test_target,i,titles[j])\n",
        "  j+=1\n",
        "\n",
        "\n"
      ],
      "metadata": {
        "colab": {
          "base_uri": "https://localhost:8080/",
          "height": 265
        },
        "id": "vhiViEwoBEo1",
        "outputId": "fb137ab1-b1eb-4119-aa82-4fe369e0e883"
      },
      "execution_count": null,
      "outputs": [
        {
          "output_type": "display_data",
          "data": {
            "text/plain": [
              "<Figure size 432x288 with 1 Axes>"
            ],
            "image/png": "[encoded data removed]"
          },
          "metadata": {
            "needs_background": "light"
          }
        }
      ]
    }
  ]
}
